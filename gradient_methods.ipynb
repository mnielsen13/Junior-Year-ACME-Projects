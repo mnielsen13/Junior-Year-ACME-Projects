{
 "cells": [
  {
   "cell_type": "code",
   "execution_count": 2,
   "id": "baca9bea",
   "metadata": {},
   "outputs": [
    {
     "name": "stdout",
     "output_type": "stream",
     "text": [
      "(array([-2.23096122e-05, -2.23096122e-05, -4.46192243e-05]), True, 10)\n"
     ]
    }
   ],
   "source": [
    "from asyncio.format_helpers import _format_callback_source\n",
    "import numpy as np\n",
    "from scipy import optimize as opt\n",
    "from scipy import linalg as la\n",
    "from matplotlib import pyplot as plt\n",
    "\n",
    "# Problem 1\n",
    "def steepest_descent(f, Df, x0, tol=1e-5, maxiter=100):\n",
    "    \"\"\"Compute the minimizer of f using the exact method of steepest descent.\n",
    "\n",
    "    Parameters:\n",
    "        f (function): The objective function. Accepts a NumPy array of shape\n",
    "            (n,) and returns a float.\n",
    "        Df (function): The first derivative of f. Accepts and returns a NumPy\n",
    "            array of shape (n,).\n",
    "        x0 ((n,) ndarray): The initial guess.\n",
    "        tol (float): The stopping tolerance.\n",
    "        maxiter (int): The maximum number of iterations to compute.\n",
    "\n",
    "    Returns:\n",
    "        ((n,) ndarray): The approximate minimum of f.\n",
    "        (bool): Whether or not the algorithm converged.\n",
    "        (int): The number of iterations computed.\n",
    "    \"\"\"\n",
    "    converged = False          #keep track of whether the algorithm converged or not\n",
    "    iters = 0\n",
    "\n",
    "    phi = lambda a: f(x0 - a*Df(x0).T)       #define the function phi to find ak\n",
    "\n",
    "    for i in range(maxiter):\n",
    "        a0 = opt.minimize_scalar(phi).x         #find the argmin of phi to find the step size\n",
    "        x1 = x0 - (a0 * Df(x0).T)               #use exact gradient descent\n",
    "        iters += 1\n",
    "\n",
    "        if np.max(np.abs(Df(x0))) < tol:        #see whether converged\n",
    "            converged = True\n",
    "            break\n",
    "\n",
    "        x0 = x1\n",
    "\n",
    "    return x1, converged, iters\n",
    "\n",
    "def test1():\n",
    "    f = lambda x: x[0]**4 + x[1]**4 + x[2]**4\n",
    "    Df = lambda x: np.array([4*x[0]**3, 4*x[1]**3, 4*x[2]**3])\n",
    "    print(steepest_descent(f, Df, x0 = np.array([1, 1, 2]), tol=1e-10))\n",
    "test1()"
   ]
  },
  {
   "cell_type": "code",
   "execution_count": 3,
   "id": "b9f1e841",
   "metadata": {},
   "outputs": [
    {
     "name": "stdout",
     "output_type": "stream",
     "text": [
      "(array([0.5, 2. ]), True, 2)\n",
      "(array([0.5000003 , 2.00000054]), True, 8)\n"
     ]
    }
   ],
   "source": [
    "# Problem 2\n",
    "def conjugate_gradient(Q, b, x0, tol=1e-4):\n",
    "    \"\"\"Solve the linear system Qx = b with the conjugate gradient algorithm.\n",
    "\n",
    "    Parameters:\n",
    "        Q ((n,n) ndarray): A positive-definite square matrix.\n",
    "        b ((n, ) ndarray): The right-hand side of the linear system.\n",
    "        x0 ((n,) ndarray): An initial guess for the solution to Qx = b.\n",
    "        tol (float): The convergence tolerance.\n",
    "\n",
    "    Returns:\n",
    "        ((n,) ndarray): The solution to the linear system Qx = b.\n",
    "        (bool): Whether or not the algorithm converged.\n",
    "        (int): The number of iterations computed.\n",
    "    \"\"\"\n",
    "    n = Q.ndim          #get the dimension of Q\n",
    "    r0 = Q @ x0 - b     #define our initial r and d\n",
    "    d0 = -r0\n",
    "    k = 0\n",
    "    iters = 0\n",
    "    converged = False           #keep track of whether converges\n",
    "\n",
    "    while la.norm(r0) >= tol and k < n:\n",
    "        ak = (r0 @ r0) / (d0 @ Q @ d0)\n",
    "        x1 = x0 + ak * d0\n",
    "        r1 = r0 + ak * Q @ d0\n",
    "        b1 = (r1 @ r1) / (r0 @ r0)        #use the conjugate gradient descent algorithm from the lab file\n",
    "        d1 = -r1 + b1*d0\n",
    "\n",
    "        x0 = x1\n",
    "        d0 = d1\n",
    "        r0 = r1\n",
    "        k += 1\n",
    "\n",
    "    if iters <= n:              #check to see if converged\n",
    "        converged = True\n",
    "    return x1, converged, k\n",
    "\n",
    "def test2():\n",
    "    Q = np.array([[2, 0], [0, 4]])\n",
    "    b = np.array([1, 8])\n",
    "    x0 = np.array([1, 3])\n",
    "    f = lambda x: x[0]**2 + 2*x[1]**2 - x[0] - 8*x[1]\n",
    "    Df = lambda x: np.array([2*x[0] - 1, 4*x[1] - 8])\n",
    "    print(conjugate_gradient(Q, b, x0))\n",
    "    print(steepest_descent(f, Df, x0))\n",
    "test2()"
   ]
  },
  {
   "cell_type": "code",
   "execution_count": 4,
   "id": "2b4d90a0",
   "metadata": {},
   "outputs": [
    {
     "name": "stdout",
     "output_type": "stream",
     "text": [
      "(array([0.99999713, 0.99999427]), True, 308)\n"
     ]
    }
   ],
   "source": [
    "# Problem 3\n",
    "def nonlinear_conjugate_gradient(f, df, x0, tol=1e-5, maxiter=100):\n",
    "    \"\"\"Compute the minimizer of f using the nonlinear conjugate gradient\n",
    "    algorithm.\n",
    "\n",
    "    Parameters:\n",
    "        f (function): The objective function. Accepts a NumPy array of shape\n",
    "            (n,) and returns a float.\n",
    "        Df (function): The first derivative of f. Accepts and returns a NumPy\n",
    "            array of shape (n,).\n",
    "        x0 ((n,) ndarray): The initial guess.\n",
    "        tol (float): The stopping tolerance.\n",
    "        maxiter (int): The maximum number of iterations to compute.\n",
    "\n",
    "    Returns:\n",
    "        ((n,) ndarray): The approximate minimum of f.\n",
    "        (bool): Whether or not the algorithm converged.\n",
    "        (int): The number of iterations computed.\n",
    "    \"\"\"\n",
    "    x1 = x0\n",
    "    r0 = -df(x0).T                      #complete our first iteration that is a little different outside the loop\n",
    "    d1 = r0\n",
    "    converged = False\n",
    "    phi = lambda a: f(x1 + a*d1)        #define our function that we will minimize to find the step size\n",
    "    a0 = opt.minimize_scalar(phi).x\n",
    "    x1 = x1 + a0*d1\n",
    "    k = 1\n",
    "\n",
    "    while la.norm(r0) >= tol and k < maxiter:         #continue until we have done the max iterations or until the gradient of the objective function is sufficiently small\n",
    "        r1 = -df(x1).T\n",
    "        b1 = (r1 @ r1) / (r0 @ r0)\n",
    "        d1 = r1 + b1*d1\n",
    "        a1 = opt.minimize_scalar(phi).x              #use the algorithm provided in the lab file for nonlinear conjugate gradient\n",
    "        x1 = x1 + a1 * d1\n",
    "        k+=1\n",
    "        r0 = r1\n",
    "\n",
    "    if k <= maxiter:                      #check to see if the algorithm converged or not\n",
    "        converged = True\n",
    "\n",
    "    return x1, converged, k\n",
    "\n",
    "def test3():\n",
    "    def f(x):\n",
    "        return 100*(x[1] - x[0]**2)**2 + (1 - x[0])**2\n",
    "\n",
    "    def Df(x):\n",
    "        return np.array([400*x[0]*(x[0]**2 - x[1]) + 2*x[0] - 2, -200*x[0]**2 + 200*x[1]])\n",
    "    x0 = np.array([10, 10])\n",
    "    print(nonlinear_conjugate_gradient(f, Df, x0, maxiter=1000))\n",
    "test3()"
   ]
  },
  {
   "cell_type": "code",
   "execution_count": 5,
   "id": "50a2d03d",
   "metadata": {},
   "outputs": [
    {
     "data": {
      "text/plain": [
       "array([-3.48225800e+06,  1.49999657e+01, -3.61956021e-02, -2.00075719e+00,\n",
       "       -1.00080566e+00, -4.85249563e-02,  1.82899902e+03])"
      ]
     },
     "execution_count": 5,
     "metadata": {},
     "output_type": "execute_result"
    }
   ],
   "source": [
    "# Problem 4\n",
    "def prob4(filename=\"linregression.txt\",\n",
    "          x0=np.array([-3482258, 15, 0, -2, -1, 0, 1829])):\n",
    "    \"\"\"Use conjugate_gradient() to solve the linear regression problem with\n",
    "    the data from the given file, the given initial guess, and the default\n",
    "    tolerance. Return the solution to the corresponding Normal Equations.\n",
    "    \"\"\"\n",
    "    data = np.loadtxt(filename)       #load the data\n",
    "\n",
    "    nrows, ncol = np.shape(data)\n",
    "\n",
    "    A = np.hstack((np.ones(nrows).reshape(-1, 1), data[:, 1:]))      #create the matrix A involved in linear least squares \n",
    "    f = data[:, 0]                                                   #create matrix b for linear least squares\n",
    "\n",
    "    Q = A.T @ A                #calculate the matrix and vector needed for the least squares system to find best parameters\n",
    "    b = A.T @ f\n",
    "\n",
    "    return conjugate_gradient(Q, b, x0)[0]\n",
    "prob4()"
   ]
  },
  {
   "cell_type": "code",
   "execution_count": 6,
   "id": "5a0250d7",
   "metadata": {},
   "outputs": [
    {
     "data": {
      "image/png": "[encoded data removed]",
      "text/plain": [
       "<Figure size 640x480 with 1 Axes>"
      ]
     },
     "metadata": {},
     "output_type": "display_data"
    },
    {
     "data": {
      "text/plain": [
       "0.999609671069125"
      ]
     },
     "execution_count": 6,
     "metadata": {},
     "output_type": "execute_result"
    }
   ],
   "source": [
    "# Problem 5\n",
    "class LogisticRegression1D:\n",
    "    \"\"\"Binary logistic regression classifier for one-dimensional data.\"\"\"\n",
    "\n",
    "    def fit(self, x, y, guess):\n",
    "        \"\"\"Choose the optimal beta values by minimizing the negative log\n",
    "        likelihood function, given data and outcome labels.\n",
    "\n",
    "        Parameters:\n",
    "            x ((n,) ndarray): An array of n predictor variables.\n",
    "            y ((n,) ndarray): An array of n outcome variables.\n",
    "            guess (array): Initial guess for beta.\n",
    "        \"\"\"\n",
    "        m = len(x)          #calculate our m\n",
    "        log_lik = lambda b: np.sum([np.log(1 + np.exp(-(b[0] + b[1]*x[i]))) + (1 - y[i])*(b[0] + b[1]*x[i]) for i in range(m)])   #define negative log function as given\n",
    "        b_min = opt.fmin_cg(log_lik, guess, disp=False)      #find the minimizer of the legative log function\n",
    "        self.b0 = b_min[0]             #save the minimizing entries as attributes\n",
    "        self.b1 = b_min[1]\n",
    "\n",
    "    def predict(self, x):\n",
    "        \"\"\"Calculate the probability of an unlabeled predictor variable\n",
    "        having an outcome of 1.\n",
    "\n",
    "        Parameters:\n",
    "            x (float): a predictor variable with an unknown label.\n",
    "        \"\"\"\n",
    "        sigma = 1 / (1 + np.exp(-(self.b0 + self.b1*x)))      #calculate the value of sigma\n",
    "        self.sigma = sigma\n",
    "\n",
    "\n",
    "# Problem 6\n",
    "def prob6(filename=\"challenger.npy\", guess=np.array([20., -1.])):\n",
    "    \"\"\"Return the probability of O-ring damage at 31 degrees Farenheit.\n",
    "    Additionally, plot the logistic curve through the challenger data\n",
    "    on the interval [30, 100].\n",
    "\n",
    "    Parameters:\n",
    "        filename (str): The file to perform logistic regression on.\n",
    "                        Defaults to \"challenger.npy\"\n",
    "        guess (array): The initial guess for beta.\n",
    "                        Defaults to [20., -1.]\n",
    "    \"\"\"\n",
    "    domain = np.linspace(30, 100, 500)           #create our domain\n",
    "    data = np.load(filename)        #load the data\n",
    "    x = data[:, 0]\n",
    "    y = data[:, 1]\n",
    "\n",
    "    shuttle = LogisticRegression1D()\n",
    "    shuttle.fit(x, y, guess)           #find the optimal beta values for our data and guess\n",
    "    shuttle.predict(domain)            #predict the probability of damage over our domain\n",
    "\n",
    "    plt.plot(domain, shuttle.sigma)    #plot the probability of o ring damage versus temperature over domain\n",
    "    shuttle.predict(31)                #predict the probability of o ring damage at 31 degrees\n",
    "    if_prevent = shuttle.sigma\n",
    "    plt.scatter(x, y, label=\"Previous Damage\")       #plot the previous damage data points\n",
    "    plt.scatter(31, if_prevent, label=\"P(Damage) at Launch\")    #plot the probability of o ring damage at 31 degrees\n",
    "    plt.title(\"Probability of O-Ring Damage\")\n",
    "    plt.ylabel(\"O-Ring Damage\")\n",
    "    plt.xlabel(\"Temperature\")\n",
    "    plt.legend(loc=\"center right\")\n",
    "    plt.show()\n",
    "\n",
    "    return if_prevent\n",
    "prob6()"
   ]
  }
 ],
 "metadata": {
  "kernelspec": {
   "display_name": "Python 3",
   "language": "python",
   "name": "python3"
  },
  "language_info": {
   "codemirror_mode": {
    "name": "ipython",
    "version": 3
   },
   "file_extension": ".py",
   "mimetype": "text/x-python",
   "name": "python",
   "nbconvert_exporter": "python",
   "pygments_lexer": "ipython3",
   "version": "3.8.8"
  }
 },
 "nbformat": 4,
 "nbformat_minor": 5
}
