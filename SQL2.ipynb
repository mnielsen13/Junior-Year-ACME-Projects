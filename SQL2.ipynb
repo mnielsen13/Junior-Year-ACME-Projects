{
 "cells": [
  {
   "cell_type": "code",
   "execution_count": 1,
   "id": "4c380076",
   "metadata": {},
   "outputs": [
    {
     "name": "stdout",
     "output_type": "stream",
     "text": [
      "['Gilbert Chapman', 'Mercedes Hall', 'Alfonso Phelps']\n"
     ]
    }
   ],
   "source": [
    "import sqlite3 as sql\n",
    "import numpy as np\n",
    "\n",
    "# Problem 1\n",
    "def prob1(db_file=\"students.db\"):\n",
    "    \"\"\"Query the database for the list of the names of students who have a\n",
    "    'B' grade in any course. Return the list.\n",
    "\n",
    "    Parameters:\n",
    "        db_file (str): the name of the database to connect to.\n",
    "\n",
    "    Returns:\n",
    "        (list): a list of strings, each of which is a student name.\n",
    "    \"\"\"\n",
    "    try:\n",
    "        with sql.connect(db_file) as conn:\n",
    "            cur = conn.cursor()\n",
    "\n",
    "            names = cur.execute(\"SELECT SI.StudentName \"\n",
    "                        \"FROM StudentInfo AS SI INNER JOIN StudentGrades AS SG \"\n",
    "                        \"ON SI.STudentID == SG.StudentID \"\n",
    "                        \"WHERE SG.Grade == 'B';\").fetchall()       #use an inner search to match the student id columns of the two tables and then find the students who have B's in a class\n",
    "    finally:\n",
    "        conn.close()\n",
    "\n",
    "    return list(np.ravel(names))         #return a list of names\n",
    "\n",
    "def test1():\n",
    "    print(prob1())\n",
    "test1()"
   ]
  },
  {
   "cell_type": "code",
   "execution_count": 2,
   "id": "c3b4df7c",
   "metadata": {},
   "outputs": [
    {
     "name": "stdout",
     "output_type": "stream",
     "text": [
      "[('Kristopher Tran', 'Science', 'C+'), ('Cassandra Holland', 'Math', 'A-'), ('Sammy Burke', 'Science', 'A'), ('Gilbert Chapman', None, 'B'), ('Mercedes Hall', None, 'B'), ('Rene Cross', 'Writing', 'A')]\n"
     ]
    }
   ],
   "source": [
    "# Problem 2\n",
    "def prob2(db_file=\"students.db\"):\n",
    "    \"\"\"Query the database for all tuples of the form (Name, MajorName, Grade)\n",
    "    where 'Name' is a student's name and 'Grade' is their grade in Calculus.\n",
    "    Only include results for students that are actually taking Calculus, but\n",
    "    be careful not to exclude students who haven't declared a major.\n",
    "\n",
    "    Parameters:\n",
    "        db_file (str): the name of the database to connect to.\n",
    "\n",
    "    Returns:\n",
    "        (list): the complete result set for the query.\n",
    "    \"\"\"\n",
    "\n",
    "    try:\n",
    "        with sql.connect(db_file) as conn:      #open connection\n",
    "            cur = conn.cursor()\n",
    "\n",
    "            tuples = cur.execute(\"SELECT SI.StudentName, MI.MajorName, SG.Grade \"\n",
    "                                \"FROM StudentInfo AS SI LEFT OUTER JOIN MajorInfo AS MI \"   #outer join student info and major info\n",
    "                                \"ON SI.MajorID == MI.MajorID \"\n",
    "                                \"INNER JOIN CourseInfo as CI, StudentGrades AS SG \"      #two inner joins with course info student grades\n",
    "                                \"ON SI.StudentID == SG.StudentID AND SG.CourseID == CI.CourseID \"\n",
    "                                \"WHERE CI.CourseName == 'Calculus';\").fetchall()       #find all the students in calculus\n",
    "\n",
    "    finally:\n",
    "        conn.close()\n",
    "\n",
    "    return tuples\n",
    "\n",
    "def test2():\n",
    "    print(prob2())\n",
    "test2()"
   ]
  },
  {
   "cell_type": "code",
   "execution_count": 3,
   "id": "0dcc317d",
   "metadata": {},
   "outputs": [
    {
     "name": "stdout",
     "output_type": "stream",
     "text": [
      "['Calculus', 'English']\n"
     ]
    }
   ],
   "source": [
    "# Problem 3\n",
    "def prob3(db_file=\"students.db\"):\n",
    "    \"\"\"Query the database for the list of the names of courses that have at\n",
    "    least 5 students enrolled in them.\n",
    "\n",
    "    Parameters:\n",
    "        db_file (str): the name of the database to connect to.\n",
    "\n",
    "    Returns:\n",
    "        (list): a list of strings, each of which is a course name.\n",
    "    \"\"\"\n",
    "    try:\n",
    "        with sql.connect(db_file) as conn:      #open connection\n",
    "            cur = conn.cursor()\n",
    "\n",
    "            classes = cur.execute(\"SELECT CI.CourseName \"\n",
    "                                \"FROM StudentInfo AS SI \" \n",
    "                                \"INNER JOIN CourseInfo AS CI, StudentGrades SG \"   #inner join studentinfo and courseinfo and studentgrades and courseinfo\n",
    "                                \"ON SI.StudentID == SG.StudentID AND CI.CourseID==SG.CourseID \"\n",
    "                                \"GROUP BY CI.CourseName \"\n",
    "                                \"HAVING COUNT(*) >= 5;\").fetchall()          #count the number of the same coursenames that appear in the table five or more times\n",
    "\n",
    "    finally:\n",
    "        conn.close()\n",
    "    \n",
    "    return list(np.ravel(classes))       #return as list\n",
    "\n",
    "def test3():\n",
    "    print(prob3())\n",
    "test3()"
   ]
  },
  {
   "cell_type": "code",
   "execution_count": 4,
   "id": "faebc66a",
   "metadata": {},
   "outputs": [
    {
     "data": {
      "text/plain": [
       "[(None, 3), ('Science', 3), ('Math', 2), ('Art', 1), ('Writing', 1)]"
      ]
     },
     "execution_count": 4,
     "metadata": {},
     "output_type": "execute_result"
    }
   ],
   "source": [
    "# Problem 4\n",
    "def prob4(db_file=\"students.db\"):\n",
    "    \"\"\"Query the given database for tuples of the form (MajorName, N) where N\n",
    "    is the number of students in the specified major. Sort the results in\n",
    "    descending order by the counts N, then in alphabetic order by MajorName.\n",
    "\n",
    "    Parameters:\n",
    "        db_file (str): the name of the database to connect to.\n",
    "\n",
    "    Returns:\n",
    "        (list): the complete result set for the query.\n",
    "    \"\"\"\n",
    "    try:\n",
    "        with sql.connect(db_file) as conn:      #open connection\n",
    "            cur = conn.cursor()\n",
    "\n",
    "            majors = cur.execute(\"SELECT MI.MajorName, COUNT(*) AS num_students \" \n",
    "                                \"FROM StudentInfo AS SI LEFT OUTER JOIN MajorInfo AS MI \"     #outer join student info and major info on majorid\n",
    "                                \"ON MI.MajorID == SI.MajorID \"\n",
    "                                \"GROUP BY MI.MajorName \"                          #group major names by number of occurrences and then alphabetically\n",
    "                                \"ORDER BY num_students DESC, MI.MajorName ASC;\").fetchall()          \n",
    "\n",
    "    finally:\n",
    "        conn.close()\n",
    "\n",
    "    return majors\n",
    "prob4()"
   ]
  },
  {
   "cell_type": "code",
   "execution_count": 5,
   "id": "eb311fe1",
   "metadata": {},
   "outputs": [
    {
     "data": {
      "text/plain": [
       "[('Gilbert Chapman', None),\n",
       " ('Roberta Cook', 'Science'),\n",
       " ('Rene Cross', 'Writing')]"
      ]
     },
     "execution_count": 5,
     "metadata": {},
     "output_type": "execute_result"
    }
   ],
   "source": [
    "# Problem 5\n",
    "def prob5(db_file=\"students.db\"):\n",
    "    \"\"\"Query the database for tuples of the form (StudentName, MajorName) where\n",
    "    the last name of the specified student begins with the letter C.\n",
    "\n",
    "    Parameters:\n",
    "        db_file (str): the name of the database to connect to.\n",
    "\n",
    "    Returns:\n",
    "        (list): the complete result set for the query.\n",
    "    \"\"\"\n",
    "    try:\n",
    "        with sql.connect(db_file) as conn:      #open connection\n",
    "            cur = conn.cursor()\n",
    "\n",
    "            majors = cur.execute(\"SELECT SI.StudentName, MI.MajorName \"              #find all the names and majors of students with last name starting in C\n",
    "                                \"FROM StudentInfo AS SI LEFT OUTER JOIN MajorInfo AS MI \"\n",
    "                                \"ON SI.MajorID == MI.MajorID \"\n",
    "                                \"Where SI.StudentName LIKE '% C%';\").fetchall()       \n",
    "\n",
    "    finally:\n",
    "        conn.close()\n",
    "\n",
    "    return majors\n",
    "prob5()"
   ]
  },
  {
   "cell_type": "code",
   "execution_count": 6,
   "id": "4d66aa37",
   "metadata": {},
   "outputs": [
    {
     "data": {
      "text/plain": [
       "[('Rene Cross', 1, 4.0),\n",
       " ('Sammy Burke', 2, 3.85),\n",
       " ('Gilbert Chapman', 3, 3.6666666666666665),\n",
       " ('Kristopher Tran', 2, 3.2),\n",
       " ('Mercedes Hall', 3, 2.6666666666666665),\n",
       " ('Cameron Kim', 3, 2.566666666666667),\n",
       " ('Alfonso Phelps', 2, 2.5),\n",
       " ('Michelle Fernandez', 2, 2.35),\n",
       " ('Cassandra Holland', 2, 2.2),\n",
       " ('Roberta Cook', 1, 2.0)]"
      ]
     },
     "execution_count": 6,
     "metadata": {},
     "output_type": "execute_result"
    }
   ],
   "source": [
    "# Problem 6\n",
    "def prob6(db_file=\"students.db\"):\n",
    "    \"\"\"Query the database for tuples of the form (StudentName, N, GPA) where N\n",
    "    is the number of courses that the specified student is in and 'GPA' is the\n",
    "    grade point average of the specified student according to the following\n",
    "    point system.\n",
    "\n",
    "        A+, A  = 4.0    B  = 3.0    C  = 2.0    D  = 1.0\n",
    "            A- = 3.7    B- = 2.7    C- = 1.7    D- = 0.7\n",
    "            B+ = 3.4    C+ = 2.4    D+ = 1.4\n",
    "\n",
    "    Order the results from greatest GPA to least.\n",
    "\n",
    "    Parameters:\n",
    "        db_file (str): the name of the database to connect to.\n",
    "\n",
    "    Returns:\n",
    "        (list): the complete result set for the query.\n",
    "    \"\"\"\n",
    "    try:\n",
    "        with sql.connect(db_file) as conn:      #open connection\n",
    "            cur = conn.cursor()\n",
    "\n",
    "            majors = cur.execute(\"SELECT SI.StudentName, COUNT(*), AVG(CASE SG.Grade \"      #calculate the average grade from our scale\n",
    "                                        \"WHEN 'A+' THEN 4.0 \"\n",
    "                                        \"WHEN 'A' THEN 4.0 \"        #create our gpa score database\n",
    "                                        \"WHEN 'A-' THEN 3.7 \"\n",
    "                                        \"WHEN 'B+' THEN 3.4 \"\n",
    "                                        \"WHEN 'B' THEN 3.0 \"\n",
    "                                        \"WHEN 'B-' THEN 2.7 \"\n",
    "                                        \"WHEN 'C+' THEN 2.4 \"\n",
    "                                        \"WHEN 'C' THEN 2.0 \"\n",
    "                                        \"WHEN 'C-' THEN 1.7 \"\n",
    "                                        \"WHEN 'D+' THEN 1.4 \"\n",
    "                                        \"WHEN 'D' THEN 1.0 \"\n",
    "                                        \"WHEN 'D-' THEN 0.7 \"\n",
    "                                        \"ELSE 0 END) AS gpa \"\n",
    "                                    \"FROM StudentGrades AS SG \"\n",
    "                                \"INNER JOIN StudentInfo AS SI \"         #inner join grades and info on student id\n",
    "                                \"ON SG.StudentID == SI.StudentID \"\n",
    "                                \"GROUP BY SG.StudentID \"\n",
    "                                \"ORDER BY gpa DESC;\").fetchall()        #order in descending order of gpa\n",
    "\n",
    "    finally:\n",
    "        conn.close()\n",
    "\n",
    "    return majors\n",
    "prob6()"
   ]
  },
  {
   "cell_type": "code",
   "execution_count": null,
   "id": "264e9e0a",
   "metadata": {},
   "outputs": [],
   "source": []
  }
 ],
 "metadata": {
  "kernelspec": {
   "display_name": "Python 3",
   "language": "python",
   "name": "python3"
  },
  "language_info": {
   "codemirror_mode": {
    "name": "ipython",
    "version": 3
   },
   "file_extension": ".py",
   "mimetype": "text/x-python",
   "name": "python",
   "nbconvert_exporter": "python",
   "pygments_lexer": "ipython3",
   "version": "3.8.8"
  }
 },
 "nbformat": 4,
 "nbformat_minor": 5
}
